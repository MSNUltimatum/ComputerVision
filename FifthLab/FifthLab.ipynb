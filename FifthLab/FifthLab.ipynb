{
 "cells": [
  {
   "cell_type": "code",
   "execution_count": 37,
   "metadata": {
    "collapsed": true
   },
   "outputs": [],
   "source": [
    "import os\n",
    "import numpy as np\n",
    "import cv2\n",
    "\n",
    "from typing import NoReturn\n",
    "\n",
    "photos: str = 'images'\n",
    "input_folder: str = os.path.join(photos, \"input\")\n",
    "output_folder: str = os.path.join(photos, \"output\")"
   ]
  },
  {
   "cell_type": "code",
   "execution_count": 38,
   "outputs": [],
   "source": [
    "def face_recognition_haar(image_name: str) -> NoReturn:\n",
    "    cascade: cv2.CascadeClassifier = cv2.CascadeClassifier(\"config/haar.xml\")\n",
    "    image: np.array = cv2.imread(os.path.join(input_folder, image_name))\n",
    "    faces: np.array = cascade.detectMultiScale(cv2.cvtColor(image, cv2.COLOR_BGR2GRAY), 1.3, 5, minSize=(10, 10))\n",
    "    print(f'In the photo \"{image_name}\" {len(faces)} faces were recognized.')\n",
    "    for face in faces:\n",
    "        cv2.rectangle(image,\n",
    "                      (face[0], face[1]),\n",
    "                      (face[0] + face[2], face[1] + face[3]),\n",
    "                      (223, 0, 255), 3)\n",
    "\n",
    "    cv2.imwrite(os.path.join(output_folder, f\"detected_{image_name}\"), image)"
   ],
   "metadata": {
    "collapsed": false,
    "pycharm": {
     "name": "#%%\n"
    }
   }
  },
  {
   "cell_type": "code",
   "execution_count": 39,
   "outputs": [
    {
     "name": "stdout",
     "output_type": "stream",
     "text": [
      "In the photo \"eight.jpg\" 2 faces were recognized.\n",
      "In the photo \"girls and cat.jpg\" 2 faces were recognized.\n"
     ]
    }
   ],
   "source": [
    "for filename in os.listdir(input_folder):\n",
    "    face_recognition_haar(filename)"
   ],
   "metadata": {
    "collapsed": false,
    "pycharm": {
     "name": "#%%\n"
    }
   }
  }
 ],
 "metadata": {
  "kernelspec": {
   "display_name": "Python 3",
   "language": "python",
   "name": "python3"
  },
  "language_info": {
   "codemirror_mode": {
    "name": "ipython",
    "version": 2
   },
   "file_extension": ".py",
   "mimetype": "text/x-python",
   "name": "python",
   "nbconvert_exporter": "python",
   "pygments_lexer": "ipython2",
   "version": "2.7.6"
  }
 },
 "nbformat": 4,
 "nbformat_minor": 0
}