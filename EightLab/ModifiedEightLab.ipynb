{
 "cells": [
  {
   "cell_type": "code",
   "execution_count": 1,
   "metadata": {
    "collapsed": true
   },
   "outputs": [],
   "source": [
    "import os\n",
    "import shutil\n",
    "import uuid\n",
    "from collections import defaultdict\n",
    "from typing import List, Tuple, Dict, NoReturn, DefaultDict, Set\n",
    "\n",
    "import faiss\n",
    "from faiss import IndexBinaryFlat, IndexFlatL2\n",
    "from matplotlib import pyplot as plt\n",
    "import cv2\n",
    "import numpy as np\n",
    "import torch\n",
    "from torch.utils.data import Dataset, DataLoader\n",
    "from torchvision.models import resnet50, ResNet"
   ]
  },
  {
   "cell_type": "code",
   "execution_count": 2,
   "outputs": [],
   "source": [
    "class ImageDs(Dataset):\n",
    "    def __init__(self, filenames: List[str]):\n",
    "        self._filenames: List[str] = filenames\n",
    "\n",
    "    @staticmethod\n",
    "    def add_pad(img, shape):\n",
    "        color_pick = img[0][0]\n",
    "        padded_img = color_pick * np.ones(shape + img.shape[2:3], dtype=np.uint8)\n",
    "        x_offset = int((padded_img.shape[0] - img.shape[0]) / 2)\n",
    "        y_offset = int((padded_img.shape[1] - img.shape[1]) / 2)\n",
    "        padded_img[x_offset:x_offset + img.shape[0], y_offset:y_offset + img.shape[1]] = img\n",
    "        return padded_img\n",
    "\n",
    "    @staticmethod\n",
    "    def resize(img, shape):\n",
    "        scale = min(shape[0] * 1.0 / img.shape[0], shape[1] * 1.0 / img.shape[1])\n",
    "        if scale != 1:\n",
    "            img = cv2.resize(img, dsize=None, fx=scale, fy=scale, interpolation=cv2.INTER_LINEAR)\n",
    "        return img"
   ],
   "metadata": {
    "collapsed": false,
    "pycharm": {
     "name": "#%%\n"
    }
   }
  },
  {
   "cell_type": "code",
   "execution_count": 3,
   "outputs": [],
   "source": [
    "class TestDs(ImageDs):\n",
    "    def __init__(self, filenames: List[str]):\n",
    "        super().__init__(filenames)\n",
    "\n",
    "    def __len__(self):\n",
    "        return len(self._filenames)\n",
    "\n",
    "    def __getitem__(self, idx) -> np.array:\n",
    "        filename: str = self._filenames[idx]\n",
    "        img: np.array = cv2.imread(filename)\n",
    "        img: np.array = self.resize(img, (224, 224))\n",
    "        img: np.array = self.add_pad(img, (224, 224))\n",
    "        img: np.array = cv2.cvtColor(img, cv2.COLOR_BGR2RGB)\n",
    "        img: np.array = torch.tensor(img, dtype=torch.float).permute(2, 0, 1) / 255.\n",
    "        return img"
   ],
   "metadata": {
    "collapsed": false,
    "pycharm": {
     "name": "#%%\n"
    }
   }
  },
  {
   "cell_type": "code",
   "execution_count": 6,
   "outputs": [],
   "source": [
    "class ImageHasher:\n",
    "    def __init__(self, path_to_dir: str, hash_size: int, image_distance_threshold: int):\n",
    "        torch.cuda.empty_cache()\n",
    "        torch.cuda.memory_summary(device=None, abbreviated=False)\n",
    "        self._model: ResNet = resnet50(pretrained=True)\n",
    "        self._hash_size: int = hash_size\n",
    "        self._index: IndexFlatL2 = self._load_index()\n",
    "        self._distance_threshold: int = image_distance_threshold\n",
    "        self._path_to_dir: str = path_to_dir\n",
    "\n",
    "    def run_job(self):\n",
    "        file_names: List[str] = list(map(lambda x: os.path.join(self._path_to_dir, x), os.listdir(self._path_to_dir)))\n",
    "        vectors = self._calculate_vectors(file_names)\n",
    "        hashes = self._calculate_hashes(vectors)\n",
    "        buckets = self._select_sets(hashes, file_names)\n",
    "        self._perform_compaction(buckets)\n",
    "\n",
    "    def _calculate_vectors(self, file_names: List[str]):\n",
    "        vectors = []\n",
    "        self._prepare_model()\n",
    "        batch_loader: DataLoader = self._get_loader(file_names)\n",
    "        for batch in batch_loader:\n",
    "            image = batch\n",
    "            image = image.to('cuda')\n",
    "            vectors.append(self._model(image))\n",
    "        return vectors\n",
    "\n",
    "    def _calculate_hashes(self, vectors):\n",
    "        hashes = []\n",
    "        for v in vectors:\n",
    "            for el in v.tolist():\n",
    "                el = np.float32(np.array([el]))\n",
    "                self._index.add(el)\n",
    "                hashes.append(el)\n",
    "        return hashes\n",
    "\n",
    "    def _select_sets(self, hashes, photos_names: List[str]) -> DefaultDict[int, Set[str]]:\n",
    "        used_images: Dict[int, int] = dict()\n",
    "        batches: DefaultDict[int, Set[str]] = defaultdict(lambda: set())\n",
    "        for img_hash in hashes:\n",
    "            s: List[Tuple[int, int]] = self._check_duplicate(img_hash)\n",
    "            current_image_index: int = s[0][0]\n",
    "            bucket_images: List[int] = list(\n",
    "                map(lambda l: l[0], filter(lambda x: x[0] not in used_images and x[1] < self._distance_threshold, s)))\n",
    "            lst = map(lambda l: photos_names[l], bucket_images)\n",
    "            batches[used_images.get(current_image_index, current_image_index)].update(lst)\n",
    "            used_images.update([(k, current_image_index) for k in bucket_images])\n",
    "        return batches\n",
    "\n",
    "    def _perform_compaction(self, buckets: DefaultDict[int, Set[str]]):\n",
    "        for batch_num, batch in buckets.items():\n",
    "            if len(batch) > 1:\n",
    "                new_folder = os.path.join(self._path_to_dir, uuid.uuid4().hex)\n",
    "                os.mkdir(new_folder)\n",
    "                for file_path in batch:\n",
    "                    file_name = file_path.rsplit('/')[-1]\n",
    "                    shutil.move(file_path, os.path.join(new_folder, file_name))\n",
    "\n",
    "    def _prepare_model(self) -> NoReturn:\n",
    "        for param in self._model.parameters():\n",
    "            param.requires_grad = False\n",
    "        # self._model.fc = torch.nn.Linear(self._model.fc.in_features, self._classes_count)\n",
    "        self._model.to('cuda')\n",
    "        ct: int = 0\n",
    "        for child in self._model.children():\n",
    "            ct += 1\n",
    "            if ct < 49:\n",
    "                for param in child.parameters():\n",
    "                    param.requires_grad = True\n",
    "\n",
    "    def _check_duplicate(self, img_hash: np.ndarray) -> List[Tuple[int, int]]:\n",
    "        D, I = self._index.search(img_hash, len(os.listdir(self._path_to_dir)))\n",
    "        return list(zip(I[0], D[0]))\n",
    "\n",
    "    @staticmethod\n",
    "    def _get_loader(file_names: List[str]):\n",
    "        return DataLoader(TestDs(file_names), batch_size=25, num_workers=0)\n",
    "\n",
    "    def _load_index(self, filename: str = 'faiss_index') -> IndexFlatL2:\n",
    "        d: int = 1000\n",
    "        try:\n",
    "            return faiss.read_index_binary(f'{filename}_{d}')\n",
    "        except RuntimeError:\n",
    "            return faiss.IndexFlatL2(d)"
   ],
   "metadata": {
    "collapsed": false,
    "pycharm": {
     "name": "#%%\n"
    }
   }
  },
  {
   "cell_type": "code",
   "execution_count": 7,
   "outputs": [
    {
     "name": "stdout",
     "output_type": "stream",
     "text": [
      "(1, 1000)\n",
      "<class 'numpy.ndarray'>\n",
      "(1, 1000)\n",
      "<class 'numpy.ndarray'>\n",
      "(1, 1000)\n",
      "<class 'numpy.ndarray'>\n",
      "(1, 1000)\n",
      "<class 'numpy.ndarray'>\n",
      "(1, 1000)\n",
      "<class 'numpy.ndarray'>\n",
      "(1, 1000)\n",
      "<class 'numpy.ndarray'>\n",
      "(1, 1000)\n",
      "<class 'numpy.ndarray'>\n",
      "(1, 1000)\n",
      "<class 'numpy.ndarray'>\n",
      "(1, 1000)\n",
      "<class 'numpy.ndarray'>\n",
      "(1, 1000)\n",
      "<class 'numpy.ndarray'>\n",
      "(1, 1000)\n",
      "<class 'numpy.ndarray'>\n",
      "(1, 1000)\n",
      "<class 'numpy.ndarray'>\n",
      "(1, 1000)\n",
      "<class 'numpy.ndarray'>\n",
      "(1, 1000)\n",
      "<class 'numpy.ndarray'>\n",
      "(1, 1000)\n",
      "<class 'numpy.ndarray'>\n",
      "(1, 1000)\n",
      "<class 'numpy.ndarray'>\n",
      "(1, 1000)\n",
      "<class 'numpy.ndarray'>\n",
      "(1, 1000)\n",
      "<class 'numpy.ndarray'>\n",
      "(1, 1000)\n",
      "<class 'numpy.ndarray'>\n",
      "(1, 1000)\n",
      "<class 'numpy.ndarray'>\n",
      "(1, 1000)\n",
      "<class 'numpy.ndarray'>\n",
      "(1, 1000)\n",
      "<class 'numpy.ndarray'>\n"
     ]
    }
   ],
   "source": [
    "hasher: ImageHasher = ImageHasher(\"images/NeuralTest/\", 16, 2700)\n",
    "v = hasher.run_job()"
   ],
   "metadata": {
    "collapsed": false,
    "pycharm": {
     "name": "#%%\n"
    }
   }
  },
  {
   "cell_type": "code",
   "execution_count": null,
   "outputs": [],
   "source": [],
   "metadata": {
    "collapsed": false,
    "pycharm": {
     "name": "#%%\n"
    }
   }
  },
  {
   "cell_type": "code",
   "execution_count": null,
   "outputs": [],
   "source": [],
   "metadata": {
    "collapsed": false,
    "pycharm": {
     "name": "#%%\n"
    }
   }
  }
 ],
 "metadata": {
  "kernelspec": {
   "display_name": "Python 3",
   "language": "python",
   "name": "python3"
  },
  "language_info": {
   "codemirror_mode": {
    "name": "ipython",
    "version": 2
   },
   "file_extension": ".py",
   "mimetype": "text/x-python",
   "name": "python",
   "nbconvert_exporter": "python",
   "pygments_lexer": "ipython2",
   "version": "2.7.6"
  }
 },
 "nbformat": 4,
 "nbformat_minor": 0
}