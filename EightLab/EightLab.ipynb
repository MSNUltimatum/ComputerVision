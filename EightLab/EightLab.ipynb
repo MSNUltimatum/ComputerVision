{
 "cells": [
  {
   "cell_type": "code",
   "execution_count": 77,
   "metadata": {
    "collapsed": true
   },
   "outputs": [],
   "source": [
    "import os\n",
    "\n",
    "import requests\n",
    "from PIL import Image\n",
    "import imagehash\n",
    "import faiss\n",
    "import numpy as np\n",
    "import pandas as pd\n",
    "from faiss import IndexBinaryFlat"
   ]
  },
  {
   "cell_type": "code",
   "execution_count": 98,
   "outputs": [],
   "source": [
    "def load_index(filename:str = 'faiss_index', hash_size: int = 16) -> IndexBinaryFlat:\n",
    "    d = hash_size**2\n",
    "    try:\n",
    "        return faiss.read_index_binary(f'{filename}_{d}')\n",
    "    except RuntimeError:\n",
    "        return faiss.IndexBinaryFlat(d)\n",
    "\n",
    "def save_index(index: IndexBinaryFlat, filename:str = 'faiss_index', hash_size: int = 16) -> None:\n",
    "    d = hash_size**2\n",
    "    faiss.write_index_binary(index, f'{filename}_{d}')\n",
    "\n",
    "def hash_image(im: Image, hash_size: int) -> np.ndarray:\n",
    "    im_hash = imagehash.average_hash(im, hash_size=hash_size)\n",
    "    return np.packbits(np.array(im_hash.hash).reshape(1,hash_size**2), axis=1)\n",
    "\n",
    "def check_duplicate(index: IndexBinaryFlat, img_hash: np.ndarray, thresh: int) -> bool:\n",
    "    D, I = index.search(img_hash, thresh)\n",
    "    print(I)\n",
    "    print(D)\n",
    "    print('---------------------------------')\n",
    "    return len(D) > 0"
   ],
   "metadata": {
    "collapsed": false,
    "pycharm": {
     "name": "#%%\n"
    }
   }
  },
  {
   "cell_type": "code",
   "execution_count": 99,
   "outputs": [],
   "source": [
    "hash_size = 8\n",
    "index_name = 'faiss_index'\n",
    "index = load_index(index_name, hash_size)\n",
    "hashes = []\n",
    "photos_names = map(lambda x: (x, int(x.split('.')[0])), os.listdir('images/test2/'))\n",
    "for name, photo_index in sorted(photos_names, key=lambda x: x[1]):\n",
    "    file = Image.open(f\"images/test2/{name}\")\n",
    "    image_hash = hash_image(file, hash_size)\n",
    "    index.add(image_hash)\n",
    "    hashes.append(image_hash)\n",
    "hashes = np.array(hashes)"
   ],
   "metadata": {
    "collapsed": false,
    "pycharm": {
     "name": "#%%\n"
    }
   }
  },
  {
   "cell_type": "code",
   "execution_count": 100,
   "outputs": [
    {
     "name": "stdout",
     "output_type": "stream",
     "text": [
      "[[0 1]]\n",
      "[[0 7]]\n",
      "---------------------------------\n",
      "[[1 0]]\n",
      "[[0 7]]\n",
      "---------------------------------\n",
      "[[2 8]]\n",
      "[[0 3]]\n",
      "---------------------------------\n",
      "[[3 9]]\n",
      "[[0 4]]\n",
      "---------------------------------\n",
      "[[4 1]]\n",
      "[[ 0 18]]\n",
      "---------------------------------\n",
      "[[5 4]]\n",
      "[[ 0 18]]\n",
      "---------------------------------\n",
      "[[6 4]]\n",
      "[[ 0 20]]\n",
      "---------------------------------\n",
      "[[7 1]]\n",
      "[[ 0 21]]\n",
      "---------------------------------\n",
      "[[8 2]]\n",
      "[[0 3]]\n",
      "---------------------------------\n",
      "[[9 3]]\n",
      "[[0 4]]\n",
      "---------------------------------\n",
      "[[10  9]]\n",
      "[[0 4]]\n",
      "---------------------------------\n",
      "[[11 12]]\n",
      "[[0 8]]\n",
      "---------------------------------\n",
      "[[12 11]]\n",
      "[[0 8]]\n",
      "---------------------------------\n",
      "[[13 12]]\n",
      "[[ 0 20]]\n",
      "---------------------------------\n",
      "[[14 12]]\n",
      "[[ 0 15]]\n",
      "---------------------------------\n",
      "[[15 12]]\n",
      "[[ 0 18]]\n",
      "---------------------------------\n"
     ]
    }
   ],
   "source": [
    "for i in hashes:\n",
    "    check_duplicate(index, i, 2)"
   ],
   "metadata": {
    "collapsed": false,
    "pycharm": {
     "name": "#%%\n"
    }
   }
  },
  {
   "cell_type": "code",
   "execution_count": null,
   "outputs": [],
   "source": [],
   "metadata": {
    "collapsed": false,
    "pycharm": {
     "name": "#%%\n"
    }
   }
  }
 ],
 "metadata": {
  "kernelspec": {
   "display_name": "Python 3",
   "language": "python",
   "name": "python3"
  },
  "language_info": {
   "codemirror_mode": {
    "name": "ipython",
    "version": 2
   },
   "file_extension": ".py",
   "mimetype": "text/x-python",
   "name": "python",
   "nbconvert_exporter": "python",
   "pygments_lexer": "ipython2",
   "version": "2.7.6"
  }
 },
 "nbformat": 4,
 "nbformat_minor": 0
}