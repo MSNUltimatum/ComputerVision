{
 "cells": [
  {
   "cell_type": "code",
   "execution_count": 1,
   "metadata": {
    "collapsed": true
   },
   "outputs": [],
   "source": [
    "import cv2\n",
    "import os\n",
    "import re\n",
    "import matplotlib.pyplot as plt\n",
    "import numpy as np\n",
    "from typing import List, Tuple"
   ]
  },
  {
   "cell_type": "code",
   "execution_count": 2,
   "outputs": [],
   "source": [
    "class Bounds:\n",
    "    def __init__(self, left: int, right: int, bottom: int, top: int):\n",
    "        if left < right and bottom < top:\n",
    "            self.left = left\n",
    "            self.right = right\n",
    "            self.top = top\n",
    "            self.bottom = bottom\n",
    "        else:\n",
    "            raise Exception(\"Wrong bound parameters.\")"
   ],
   "metadata": {
    "collapsed": false,
    "pycharm": {
     "name": "#%%\n"
    }
   }
  },
  {
   "cell_type": "code",
   "execution_count": 3,
   "outputs": [],
   "source": [
    "def get_brightness_value(img, pixels_bounds: Bounds) -> float:\n",
    "    black_white_img = cv2.cvtColor(img, cv2.COLOR_BGR2GRAY)\n",
    "    required_pixels: np.array = black_white_img[pixels_bounds.bottom : pixels_bounds.top, pixels_bounds.left : pixels_bounds.right]\n",
    "    h, w = required_pixels.shape\n",
    "    return required_pixels.sum() / (h * w)"
   ],
   "metadata": {
    "collapsed": false,
    "pycharm": {
     "name": "#%%\n"
    }
   }
  },
  {
   "cell_type": "code",
   "execution_count": 4,
   "outputs": [],
   "source": [
    "def get_folder_content_brightness(folder_name: str, bounds: Bounds) -> List[Tuple[int, float]]:\n",
    "    brightness_list: List[Tuple[int, float]] = []\n",
    "    for file_name in os.listdir(folder_name):\n",
    "        print(f\"Starting process {file_name}.\")\n",
    "        ev_value: int = int(re.search(\"(\\+|-)\\d+\", file_name).group(0))\n",
    "        image = cv2.imread(os.path.join(folder_name, file_name))\n",
    "        brightness: float = get_brightness_value(image, bounds)\n",
    "        brightness_list.append((ev_value, brightness))\n",
    "    return sorted(brightness_list, key=lambda x: x[0])"
   ],
   "metadata": {
    "collapsed": false,
    "pycharm": {
     "name": "#%%\n"
    }
   }
  },
  {
   "cell_type": "code",
   "execution_count": 5,
   "outputs": [],
   "source": [
    "def draw_plot(dir_name: str, bounds: Bounds, output_dir: str, title: str):\n",
    "    brightness_list: List[Tuple[int, float]] = get_folder_content_brightness(dir_name, bounds)\n",
    "    ev_list, brightnesses = [list(t) for t in zip(*brightness_list)]\n",
    "    plt.scatter(ev_list, np.log10(brightnesses), color='green')\n",
    "    plt.title(title)\n",
    "    plt.xlabel('EV values')\n",
    "    plt.ylabel('AVG brightness')\n",
    "    plt.savefig(os.path.join(output_dir, f\"{dir_name}.jpg\"))"
   ],
   "metadata": {
    "collapsed": false,
    "pycharm": {
     "name": "#%%\n"
    }
   }
  },
  {
   "cell_type": "code",
   "execution_count": 6,
   "outputs": [],
   "source": [
    "first_bounds: Bounds = Bounds(1984, 2048, 1480, 1544)\n",
    "second_bounds: Bounds = Bounds(1468, 1532, 1968, 2032)\n",
    "firs_directory_name: str = \"samsung\"\n",
    "second_directory_name: str = \"honor\"\n",
    "output_dir: str = \"output\""
   ],
   "metadata": {
    "collapsed": false,
    "pycharm": {
     "name": "#%%\n"
    }
   }
  },
  {
   "cell_type": "code",
   "execution_count": 7,
   "outputs": [
    {
     "name": "stdout",
     "output_type": "stream",
     "text": [
      "Starting process ev+4.jpg.\n",
      "Starting process ev-0.jpg.\n",
      "Starting process ev+2.jpg.\n",
      "Starting process ev-3.jpg.\n",
      "Starting process ev-2.jpg.\n",
      "Starting process ev+3.jpg.\n",
      "Starting process ev-1.jpg.\n",
      "Starting process ev-4.jpg.\n",
      "Starting process ev+1.jpg.\n"
     ]
    },
    {
     "data": {
      "text/plain": "<Figure size 432x288 with 1 Axes>",
      "image/png": "[encoded data removed]"
     },
     "metadata": {
      "needs_background": "light"
     },
     "output_type": "display_data"
    }
   ],
   "source": [
    "draw_plot(second_directory_name, second_bounds, output_dir, \"Honor 20 PRO\")"
   ],
   "metadata": {
    "collapsed": false,
    "pycharm": {
     "name": "#%%\n"
    }
   }
  },
  {
   "cell_type": "code",
   "execution_count": 8,
   "outputs": [
    {
     "name": "stdout",
     "output_type": "stream",
     "text": [
      "Starting process ev+5.jpg.\n",
      "Starting process ev-9.jpg.\n",
      "Starting process ev+6.jpg.\n",
      "Starting process ev+4.jpg.\n",
      "Starting process ev-0.jpg.\n",
      "Starting process ev-8.jpg.\n",
      "Starting process ev+2.jpg.\n",
      "Starting process ev+10.jpg.\n",
      "Starting process ev-3.jpg.\n",
      "Starting process ev+9.jpg.\n",
      "Starting process ev+7.jpg.\n",
      "Starting process ev+8.jpg.\n",
      "Starting process ev-2.jpg.\n",
      "Starting process ev+3.jpg.\n",
      "Starting process ev-5.jpg.\n",
      "Starting process ev-10.jpg.\n",
      "Starting process ev-1.jpg.\n",
      "Starting process ev-6.jpg.\n",
      "Starting process ev-4.jpg.\n",
      "Starting process ev-7.jpg.\n",
      "Starting process ev+1.jpg.\n"
     ]
    },
    {
     "data": {
      "text/plain": "<Figure size 432x288 with 1 Axes>",
      "image/png": "[encoded data removed]"
     },
     "metadata": {
      "needs_background": "light"
     },
     "output_type": "display_data"
    }
   ],
   "source": [
    "draw_plot(firs_directory_name, second_bounds, output_dir, \"Samsung Galaxy S 21+\")"
   ],
   "metadata": {
    "collapsed": false,
    "pycharm": {
     "name": "#%%\n"
    }
   }
  },
  {
   "cell_type": "code",
   "execution_count": 8,
   "outputs": [],
   "source": [],
   "metadata": {
    "collapsed": false,
    "pycharm": {
     "name": "#%%\n"
    }
   }
  }
 ],
 "metadata": {
  "kernelspec": {
   "display_name": "Python 3",
   "language": "python",
   "name": "python3"
  },
  "language_info": {
   "codemirror_mode": {
    "name": "ipython",
    "version": 2
   },
   "file_extension": ".py",
   "mimetype": "text/x-python",
   "name": "python",
   "nbconvert_exporter": "python",
   "pygments_lexer": "ipython2",
   "version": "2.7.6"
  }
 },
 "nbformat": 4,
 "nbformat_minor": 0
}